{
 "cells": [
  {
   "cell_type": "code",
   "execution_count": null,
   "metadata": {},
   "outputs": [],
   "source": [
    "# default_exp pipeline"
   ]
  },
  {
   "cell_type": "markdown",
   "metadata": {},
   "source": [
    "# Pipeline\n",
    "\n",
    "> Custom data pipeline, including transformers, dataloaders and data augmentations."
   ]
  },
  {
   "cell_type": "code",
   "execution_count": null,
   "metadata": {},
   "outputs": [],
   "source": [
    "#hide\n",
    "from nbdev.showdoc import *"
   ]
  },
  {
   "cell_type": "code",
   "execution_count": null,
   "metadata": {},
   "outputs": [],
   "source": [
    "#export\n",
    "import numpy as np\n",
    "import torch\n",
    "from scipy.ndimage import zoom\n",
    "from fastai2.torch_core import TensorImage, Tuple\n",
    "from fastcore.transform import ItemTransform, compose_tfms\n",
    "from fastai2.data.block import TransformBlock, DataBlock, Transform, ColSplitter, ColReader"
   ]
  },
  {
   "cell_type": "code",
   "execution_count": null,
   "metadata": {},
   "outputs": [],
   "source": [
    "#exports\n",
    "class SequenceTfms(ItemTransform):\n",
    "    \"\"\" Custom Transformer for 2D or 3D data that applies same augmentations to X and y \"\"\"\n",
    "\n",
    "    def __init__(self, tfms):\n",
    "        self.tfms = tfms\n",
    "        self.split_idx = 0\n",
    "\n",
    "    def encodes(self, pair):\n",
    "        # 3D\n",
    "        if pair[0].shape[0] > 3:\n",
    "            pair[0] = pair[0].squeeze(1)\n",
    "            pair[1] = pair[1].squeeze(1)\n",
    "            seq_len, rs, cs = pair[0].shape\n",
    "            x = pair[0].view(1, seq_len, rs, cs)\n",
    "            y = pair[1].view(1, seq_len, rs, cs)\n",
    "            z = torch.cat([x, y], dim=1)\n",
    "            z = TensorImage(z)\n",
    "            z = compose_tfms(z, self.tfms)\n",
    "            x = z[:1, :seq_len]\n",
    "            y = z[:1, seq_len:]\n",
    "            x = x.view(seq_len, 1, rs, cs)\n",
    "            y = y.view(seq_len, 1, rs, cs)\n",
    "        # 2D\n",
    "        else:\n",
    "            seq_len, rs, cs = pair[0].shape\n",
    "            x = pair[0].unsqueeze(0)\n",
    "            y = pair[1].unsqueeze(0)\n",
    "            z = torch.cat([x, y], dim=1)\n",
    "            z = TensorImage(z)\n",
    "            z = compose_tfms(z, self.tfms)\n",
    "            x = z[:1, :seq_len]\n",
    "            y = z[:1, seq_len:]\n",
    "            x = x.squeeze(0)\n",
    "            y = y.squeeze(0)\n",
    "\n",
    "        x = TensorImage(x)\n",
    "        y = TensorImage(y)\n",
    "\n",
    "        return x, y"
   ]
  },
  {
   "cell_type": "code",
   "execution_count": null,
   "metadata": {},
   "outputs": [],
   "source": [
    "#exports\n",
    "class ImageSequence(Tuple):\n",
    "    \"\"\" Custom data loader for 2d or 3d data from numpy arrays \"\"\"\n",
    "\n",
    "    def __init__(self, scaling=(1, 1, 1)):\n",
    "        self.scaling = scaling\n",
    "\n",
    "    def create(self, file):\n",
    "\n",
    "        img = np.load(file, allow_pickle=True)\n",
    "\n",
    "        # resizing\n",
    "        if len(img.shape) > 2 and img.shape[-1] > 3:  # 3D\n",
    "            img = zoom(img, self.scaling, order=2)\n",
    "        elif len(img.shape) > 2 and img.shape[-1] <= 3:  # 2.5D\n",
    "            img = zoom(img, self.scaling[:2] + (1,), order=2)\n",
    "        else:\n",
    "            img = zoom(img, self.scaling[:2], order=2)  # 2D\n",
    "\n",
    "        if len(img.shape) > 2:\n",
    "            if img.shape[-1] > 3:\n",
    "                return TensorImage(img.swapaxes(2, 1).swapaxes(1, 0)).unsqueeze(1)  # 3D\n",
    "            else:\n",
    "                return TensorImage(img.swapaxes(2, 1).swapaxes(1, 0))  # 2.5D\n",
    "        return TensorImage(img[None,])  # 2D"
   ]
  },
  {
   "cell_type": "code",
   "execution_count": null,
   "metadata": {},
   "outputs": [],
   "source": [
    "#exports\n",
    "def ImageSequenceBlockWrapper(scaling=(1, 1, 1), tfms=[]):\n",
    "    \"\"\" Custom transform block (wrapped)\"\"\"\n",
    "    def ImageSequenceBlock():\n",
    "        \"\"\" Custom transform block \"\"\"\n",
    "        return TransformBlock(type_tfms=[ImageSequence(scaling).create, ],\n",
    "                              item_tfms=[SequenceTfms([*tfms])],\n",
    "                              batch_tfms=[])\n",
    "    return ImageSequenceBlock"
   ]
  },
  {
   "cell_type": "code",
   "execution_count": null,
   "metadata": {},
   "outputs": [],
   "source": [
    "#exports\n",
    "class SwapTfms(Transform):\n",
    "    \"\"\" Just a transform for swapping the channel dimension to the front \"\"\"\n",
    "    def __init__(self):\n",
    "        pass\n",
    "\n",
    "    def encodes(self, x: TensorImage):\n",
    "        if len(x.size()) < 5:\n",
    "            return x\n",
    "        return x.permute(0, 2, 1, 3, 4)"
   ]
  },
  {
   "cell_type": "code",
   "execution_count": null,
   "metadata": {},
   "outputs": [],
   "source": [
    "#exports\n",
    "def get_dls(df, scaling=(1,1,1), bs=8, tfms=[], out_ch=1):\n",
    "    \"\"\" Data-loader pipeline and transforms for either 2D, 2.5D or 3D models \"\"\"\n",
    "\n",
    "    # data-block API using the custom pipelines and reading the location of the training files from a dataframe\n",
    "    dblock = DataBlock(blocks=(ImageSequenceBlockWrapper(scaling, tfms), ImageSequenceBlockWrapper(scaling, tfms)),\n",
    "                       splitter=ColSplitter(),\n",
    "                       get_x=ColReader('X'),\n",
    "                       get_y=ColReader('y'),\n",
    "                       item_tfms=[],\n",
    "                       batch_tfms=[SwapTfms()])\n",
    "\n",
    "    dls = dblock.dataloaders(df, bs=bs)\n",
    "    dls.c = out_ch  # number of channels of the target\n",
    "\n",
    "    print(f\"{dls.one_batch()[0].shape} - Scaling: {scaling}\")\n",
    "\n",
    "    return dls"
   ]
  }
 ],
 "metadata": {
  "kernelspec": {
   "display_name": "Python 3",
   "language": "python",
   "name": "python3"
  }
 },
 "nbformat": 4,
 "nbformat_minor": 2
}
