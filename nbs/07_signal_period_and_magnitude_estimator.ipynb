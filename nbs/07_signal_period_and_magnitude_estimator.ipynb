{
 "cells": [
  {
   "cell_type": "code",
   "execution_count": null,
   "metadata": {},
   "outputs": [],
   "source": [
    "# default_exp signal_period_and_magnitude_estimator"
   ]
  },
  {
   "cell_type": "markdown",
   "metadata": {},
   "source": [
    "# module name here\n",
    "\n",
    "> API details."
   ]
  },
  {
   "cell_type": "code",
   "execution_count": null,
   "metadata": {},
   "outputs": [],
   "source": [
    "#hide\n",
    "from nbdev.showdoc import *"
   ]
  },
  {
   "cell_type": "code",
   "execution_count": null,
   "metadata": {},
   "outputs": [],
   "source": [
    "#export \n",
    "import numpy as np"
   ]
  },
  {
   "cell_type": "code",
   "execution_count": null,
   "metadata": {},
   "outputs": [],
   "source": [
    "#export\n",
    "class SignalPeriodAndMagnitudeEstimator:\n",
    "    def __init__(self,fs = 100., cool_down_zero_crossing_in_s = 0.1, peak_finding_delay_in_s = 0.1, lpf_alpha = 0.3):\n",
    "        self.cool_down_zero_crossing_in_s = cool_down_zero_crossing_in_s\n",
    "        self.peak_finding_delay_in_s = peak_finding_delay_in_s\n",
    "        self.previous_polarity = None\n",
    "        self.cool_down_in_progress = False\n",
    "        self.cool_down_t0 = None\n",
    "        \n",
    "        self.search_for_positive_peak = False\n",
    "        self.search_for_negative_peak = False\n",
    "        self.positive_peak_found = False\n",
    "        self.negative_peak_found = False\n",
    "        self.pos_peak_t0 = None\n",
    "        self.pos_peak_trigger_t = None\n",
    "        self.pos_peak_amp = None\n",
    "        self.neg_peak_t0 = None\n",
    "        self.neg_peak_trigger_t = None\n",
    "        self.neg_peak_amp = None\n",
    "        self.lpf_alpha = lpf_alpha\n",
    "        self.respiration_period_est = 0.\n",
    "        self.respiration_magnitude_est = 0.\n",
    "        \n",
    "        self.ready = False\n",
    "        \n",
    "    def filter_samples(self,t_in,s_in):\n",
    "        n = len(t_in)\n",
    "        s_out = np.zeros((6,n))\n",
    "        if(n > 0):\n",
    "            for i in range(n):\n",
    "                t = t_in[i]\n",
    "                s = s_in[0,i]\n",
    "                if(not self.ready): #initialization\n",
    "                    #s_out[0,i] = 0.\n",
    "                    self.previous_polarity = np.sign(s_in[0,0])\n",
    "                    if(self.previous_polarity == 0.):\n",
    "                        self.previous_polarity = 1.\n",
    "                    self.ready = True\n",
    "                else: #initialized           \n",
    "                    if(self.cool_down_in_progress):\n",
    "                        if(t - self.cool_down_t0 >= self.cool_down_zero_crossing_in_s):\n",
    "                            #s_out[0,i] = 0.\n",
    "                            self.cool_down_in_progress = False\n",
    "                        else:\n",
    "                            s_out[0,i] = 1.\n",
    "                    else:\n",
    "                        s_sign = np.sign(s)\n",
    "                        if(s_sign == 0.):\n",
    "                            s_sign = 1.\n",
    "                        if(s_sign != self.previous_polarity): #zero-crossing\n",
    "                            self.previous_polarity = s_sign\n",
    "                            self.cool_down_in_progress = True\n",
    "                            self.cool_down_t0 = t\n",
    "                            s_out[0,i] = 1.\n",
    "                            if(s_sign > 0.):\n",
    "                                self.search_for_positive_peak = True\n",
    "                                self.search_for_negative_peak = False\n",
    "                                self.pos_peak_t0 = t\n",
    "                                self.pos_peak_amp = s\n",
    "                            else:\n",
    "                                self.search_for_positive_peak = False\n",
    "                                self.search_for_negative_peak = True\n",
    "                                self.neg_peak_t0 = t\n",
    "                                self.neg_peak_amp = s\n",
    "                if(self.search_for_positive_peak):\n",
    "                    if(t - self.pos_peak_t0 < self.peak_finding_delay_in_s):\n",
    "                        if(s > self.pos_peak_amp):\n",
    "                            self.pos_peak_t0 = t\n",
    "                            self.pos_peak_amp = s\n",
    "                    else:\n",
    "                        self.search_for_positive_peak = False\n",
    "                        self.positive_peak_found = True\n",
    "                        \n",
    "                        if(self.pos_peak_trigger_t is not None):\n",
    "                            self.respiration_period_est = (1. - self.lpf_alpha) * self.respiration_period_est + self.lpf_alpha * (t - self.pos_peak_trigger_t)\n",
    "                            self.respiration_magnitude_est = (1. - self.lpf_alpha) * self.respiration_magnitude_est + self.lpf_alpha * (self.pos_peak_amp - self.neg_peak_amp)\n",
    "                        \n",
    "                        self.pos_peak_trigger_t = t\n",
    "                        self.pos_peak_amp = s\n",
    "                if(self.search_for_negative_peak):\n",
    "                    if(t - self.neg_peak_t0 < self.peak_finding_delay_in_s):\n",
    "                        if(s < self.neg_peak_amp):\n",
    "                            self.neg_peak_t0 = t\n",
    "                            self.neg_peak_amp = s\n",
    "                    else:\n",
    "                        self.search_for_negative_peak = False\n",
    "                        self.negative_peak_found = True\n",
    "                        self.neg_peak_trigger_t = t\n",
    "                        self.neg_peak_amp = s\n",
    "                if(self.positive_peak_found):\n",
    "                    if(t - self.pos_peak_trigger_t < self.peak_finding_delay_in_s):\n",
    "                        s_out[2,i] = 1.\n",
    "                    else:\n",
    "                        self.positive_peak_found = False\n",
    "                if(self.negative_peak_found):\n",
    "                    if(t - self.neg_peak_trigger_t < self.peak_finding_delay_in_s):\n",
    "                        s_out[3,i] = 1.\n",
    "                    else:\n",
    "                        self.negative_peak_found = False\n",
    "                \n",
    "                s_out[1,i] = self.previous_polarity #+1 for positive motion, -1 for negative motion\n",
    "                s_out[4,i] = self.respiration_period_est\n",
    "                s_out[5,i] = self.respiration_magnitude_est\n",
    "            return s_out\n",
    "        else:\n",
    "            return np.array()"
   ]
  },
  {
   "cell_type": "code",
   "execution_count": null,
   "metadata": {},
   "outputs": [
    {
     "data": {
      "text/plain": [
       "'Hello Sylvain!'"
      ]
     },
     "execution_count": null,
     "metadata": {},
     "output_type": "execute_result"
    }
   ],
   "source": [
    "# say_hello(\"Sylvain\")"
   ]
  },
  {
   "cell_type": "code",
   "execution_count": null,
   "metadata": {},
   "outputs": [],
   "source": [
    "# assert say_hello(\"Jeremy\")==\"Hello Jeremy!\""
   ]
  },
  {
   "cell_type": "code",
   "execution_count": null,
   "metadata": {},
   "outputs": [],
   "source": []
  }
 ],
 "metadata": {
  "kernelspec": {
   "display_name": "Python 3",
   "language": "python",
   "name": "python3"
  }
 },
 "nbformat": 4,
 "nbformat_minor": 2
}
