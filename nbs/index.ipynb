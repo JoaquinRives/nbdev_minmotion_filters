{
 "cells": [
  {
   "cell_type": "code",
   "execution_count": null,
   "metadata": {},
   "outputs": [],
   "source": [
    "#hide\n",
    "from nbdev_minmotion_filters.core import *"
   ]
  },
  {
   "cell_type": "markdown",
   "metadata": {},
   "source": [
    "# Combined filters for MEMS-based respiratory motion estimation.\n",
    "\n",
    "[**Eero Lehtonen**](https://www.mdpi.com/1424-8220/21/12/3983), [Jarmo Teuho](https://www.mdpi.com/1424-8220/21/12/3983), [Juho Koskinen](https://www.mdpi.com/1424-8220/21/12/3983), [Mojtaba Jafari Tadi](https://www.mdpi.com/1424-8220/21/12/3983), [Joaquin Rives Gambin](https://www.mdpi.com/1424-8220/21/12/3983), [Tuija Vasankari](https://www.mdpi.com/1424-8220/21/12/3983), [Antti Saraste](https://www.mdpi.com/1424-8220/21/12/3983).\n",
    "University of Turku, Finland\n",
    "\n",
    "> Summary description here."
   ]
  },
  {
   "cell_type": "markdown",
   "metadata": {},
   "source": [
    "## Install"
   ]
  },
  {
   "cell_type": "markdown",
   "metadata": {},
   "source": [
    "`pip install minmotion_respiration_filters`"
   ]
  },
  {
   "cell_type": "markdown",
   "metadata": {},
   "source": [
    "## How to use"
   ]
  },
  {
   "cell_type": "markdown",
   "metadata": {},
   "source": [
    "Fill me in please! Don't forget code examples:"
   ]
  },
  {
   "cell_type": "code",
   "execution_count": null,
   "metadata": {},
   "outputs": [
    {
     "data": {
      "text/plain": [
       "2"
      ]
     },
     "execution_count": null,
     "metadata": {},
     "output_type": "execute_result"
    }
   ],
   "source": [
    "1+1"
   ]
  },
  {
   "cell_type": "code",
   "execution_count": null,
   "metadata": {},
   "outputs": [],
   "source": []
  },
  {
   "cell_type": "markdown",
   "metadata": {},
   "source": [
    "<br />\n",
    "<hr /> \n",
    "<br />\n",
    "\n",
    "> Original Paper:"
   ]
  },
  {
   "cell_type": "markdown",
   "metadata": {},
   "source": [
    "### A Respiratory Motion Estimation Method Based on Inertial Measurement Units for Gated Positron Emission Tomography\n",
    "\n",
    "[**Eero Lehtonen**](https://www.mdpi.com/1424-8220/21/12/3983), [Jarmo Teuho](https://www.mdpi.com/1424-8220/21/12/3983), [Juho Koskinen](https://www.mdpi.com/1424-8220/21/12/3983), [Mojtaba Jafari Tadi](https://www.mdpi.com/1424-8220/21/12/3983), [Joaquin Rives Gambin](https://www.mdpi.com/1424-8220/21/12/3983), [Tuija Vasankari](https://www.mdpi.com/1424-8220/21/12/3983), [Antti Saraste](https://www.mdpi.com/1424-8220/21/12/3983).\n",
    "University of Turku, Finland\n",
    "\n",
    "[[Download link](https://www.mdpi.com/1424-8220/21/12/3983)]\n",
    "\n",
    "**Abstract:**\n",
    "We present a novel method for estimating respiratory motion using inertial measurement\n",
    "units (IMUs) based on microelectromechanical systems (MEMS) technology. As an application of\n",
    "the method we consider the amplitude gating of positron emission tomography (PET) imaging, and\n",
    "compare the method against a clinically used respiration motion estimation technique. The presented\n",
    "method can be used to detect respiratory cycles and estimate their lengths with state-of-the-art\n",
    "accuracy when compared to other IMU-based methods, and is the first based on commercial MEMS\n",
    "devices, which can estimate quantitatively both the magnitude and the phase of respiratory motion\n",
    "from the abdomen and chest regions. For the considered test group consisting of eight subjects\n",
    "with acute myocardial infarction, our method achieved the absolute breathing rate error per minute\n",
    "of 0.44 ± 0.23 1/min, and the absolute amplitude error of 0.24 ± 0.09 cm, when compared to the\n",
    "clinically used respiratory motion estimation technique. The presented method could be used to\n",
    "simplify the logistics related to respiratory motion estimation in PET imaging studies, and also to\n",
    "enable multi-position motion measurements for advanced organ motion estimation.\n",
    "\n",
    "\n",
    "\n",
    "Citation\n",
    "----------\n",
    "```BibTex\n",
    "@article{lehtonen2021respiratory,\n",
    "  title={A Respiratory Motion Estimation Method Based on Inertial Measurement Units for Gated Positron Emission Tomography},\n",
    "  author={Lehtonen, Eero and Teuho, Jarmo and Koskinen, Juho and Jafari Tadi, Mojtaba and Kl{\\'e}n, Riku and Siekkinen, Reetta and Rives Gambin, Joaquin and Vasankari, Tuija and Saraste, Antti},\n",
    "  journal={Sensors},\n",
    "  volume={21},\n",
    "  number={12},\n",
    "  pages={3983},\n",
    "  year={2021},\n",
    "  publisher={Multidisciplinary Digital Publishing Institute}\n",
    "}\n",
    "```"
   ]
  },
  {
   "cell_type": "code",
   "execution_count": null,
   "metadata": {},
   "outputs": [],
   "source": []
  }
 ],
 "metadata": {
  "kernelspec": {
   "display_name": "Python 3",
   "language": "python",
   "name": "python3"
  }
 },
 "nbformat": 4,
 "nbformat_minor": 2
}
